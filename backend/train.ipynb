{
 "cells": [
  {
   "cell_type": "code",
   "execution_count": 1,
   "id": "1c8b5a9d",
   "metadata": {},
   "outputs": [],
   "source": [
    "# train_model.py\n",
    "import pandas as pd\n",
    "import numpy as np\n",
    "import xgboost as xgb\n",
    "import joblib\n",
    "from sklearn.model_selection import train_test_split\n",
    "from sklearn.metrics import mean_squared_error, r2_score"
   ]
  },
  {
   "cell_type": "code",
   "execution_count": 3,
   "id": "708959e5",
   "metadata": {},
   "outputs": [],
   "source": [
    "# --- Load dataset ---\n",
    "df = pd.read_csv(\"traffic.csv\")\n",
    "\n",
    "# Convert DateTime\n",
    "df['DateTime'] = pd.to_datetime(df['DateTime'], dayfirst=True)\n",
    "\n",
    "# Feature engineering\n",
    "df['hour'] = df['DateTime'].dt.hour\n",
    "df['dayofweek'] = df['DateTime'].dt.dayofweek\n",
    "df['month'] = df['DateTime'].dt.month\n",
    "df['is_weekend'] = df['dayofweek'].isin([5,6]).astype(int)\n",
    "df['is_peak'] = df['hour'].isin([7,8,9,17,18,19]).astype(int)\n",
    "\n",
    "df = df.sort_values([\"Junction\",\"DateTime\"])\n",
    "df['lag_1'] = df.groupby(\"Junction\")['Vehicles'].shift(1)\n",
    "df['lag_2'] = df.groupby(\"Junction\")['Vehicles'].shift(2)\n",
    "df['lag_3'] = df.groupby(\"Junction\")['Vehicles'].shift(3)\n",
    "\n",
    "df = df.dropna()\n",
    "\n",
    "features = ['hour','dayofweek','month','is_weekend','is_peak','lag_1','lag_2','lag_3']\n",
    "target = 'Vehicles'\n",
    "\n",
    "X = df[features]\n",
    "y = df[target]"
   ]
  },
  {
   "cell_type": "code",
   "execution_count": 4,
   "id": "e3b1851f",
   "metadata": {},
   "outputs": [],
   "source": [
    "\n",
    "# --- Split ---\n",
    "X_train, X_test, y_train, y_test = train_test_split(X, y, test_size=0.2, shuffle=False)\n",
    "\n",
    "dtrain = xgb.DMatrix(X_train, label=y_train)\n",
    "dtest = xgb.DMatrix(X_test, label=y_test)"
   ]
  },
  {
   "cell_type": "code",
   "execution_count": 5,
   "id": "b8c76522",
   "metadata": {},
   "outputs": [],
   "source": [
    "# --- Train ---\n",
    "params = {\n",
    "    \"objective\": \"reg:squarederror\",\n",
    "    \"eval_metric\": \"rmse\",\n",
    "    \"max_depth\": 6,\n",
    "    \"eta\": 0.1,\n",
    "    \"subsample\": 0.8,\n",
    "    \"colsample_bytree\": 0.8\n",
    "}\n",
    "\n",
    "model = xgb.train(params, dtrain, num_boost_round=200)"
   ]
  },
  {
   "cell_type": "code",
   "execution_count": 6,
   "id": "c49ade55",
   "metadata": {},
   "outputs": [
    {
     "name": "stdout",
     "output_type": "stream",
     "text": [
      "RMSE: 4.815935964279024\n",
      "R2 Score: 0.7665134072303772\n"
     ]
    }
   ],
   "source": [
    "\n",
    "# --- Evaluate ---\n",
    "y_pred = model.predict(dtest)\n",
    "rmse = np.sqrt(mean_squared_error(y_test, y_pred))\n",
    "r2 = r2_score(y_test, y_pred)\n",
    "\n",
    "print(\"RMSE:\", rmse)\n",
    "print(\"R2 Score:\", r2)\n"
   ]
  },
  {
   "cell_type": "code",
   "execution_count": 9,
   "id": "d1eeafae",
   "metadata": {},
   "outputs": [
    {
     "name": "stdout",
     "output_type": "stream",
     "text": [
      "✅ Model and features saved!\n"
     ]
    }
   ],
   "source": [
    "# --- Save model and metadata ---\n",
    "model.save_model(\"traffic_model.json\")\n",
    "joblib.dump(features, \"features.pkl\")\n",
    "print(\"✅ Model and features saved!\")"
   ]
  }
 ],
 "metadata": {
  "kernelspec": {
   "display_name": "Python 3",
   "language": "python",
   "name": "python3"
  },
  "language_info": {
   "codemirror_mode": {
    "name": "ipython",
    "version": 3
   },
   "file_extension": ".py",
   "mimetype": "text/x-python",
   "name": "python",
   "nbconvert_exporter": "python",
   "pygments_lexer": "ipython3",
   "version": "3.13.5"
  }
 },
 "nbformat": 4,
 "nbformat_minor": 5
}
